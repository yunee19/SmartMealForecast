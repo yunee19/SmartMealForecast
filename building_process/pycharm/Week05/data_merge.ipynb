{
 "cells": [
  {
   "cell_type": "code",
   "execution_count": 1,
   "id": "850e23fb",
   "metadata": {},
   "outputs": [
    {
     "name": "stdout",
     "output_type": "stream",
     "text": [
      "📂 Detected encoding for meal_data_2016_2021.csv: EUC-KR\n",
      "📂 Detected encoding for weather_data_2016_2021.csv: EUC-KR\n",
      "📂 Detected encoding for special_day_data_2016_2021.csv: EUC-KR\n",
      "✅ Merging complete! The file 'merged_data.csv' has been created.\n"
     ]
    }
   ],
   "source": [
    "import pandas as pd\n",
    "import chardet\n",
    "\n",
    "def detect_encoding(file_path):\n",
    "    with open(file_path, \"rb\") as f:\n",
    "        result = chardet.detect(f.read(100000))\n",
    "    return result[\"encoding\"]\n",
    "\n",
    "files = [\"meal_data_2016_2021.csv\", \"weather_data_2016_2021.csv\", \"special_day_data_2016_2021.csv\"]\n",
    "\n",
    "dataframes = {}\n",
    "for file in files:\n",
    "    encoding = detect_encoding(file)\n",
    "    print(f\"📂 Detected encoding for {file}: {encoding}\")\n",
    "    df = pd.read_csv(file, encoding=encoding, header=0)\n",
    "    df.columns = df.columns.str.strip()\n",
    "    df.columns = df.columns.str.replace(\"\\ufeff\", \"\")\n",
    "    dataframes[file] = df\n",
    "\n",
    "meal_df = dataframes[\"meal_data_2016_2021.csv\"]\n",
    "weather_df = dataframes[\"weather_data_2016_2021.csv\"]\n",
    "special_day_df = dataframes[\"special_day_data_2016_2021.csv\"]\n",
    "\n",
    "# Chuyển đổi 'Date' sang datetime\n",
    "for df in [meal_df, weather_df, special_day_df]:\n",
    "    if \"Date\" in df.columns:\n",
    "        df[\"Date\"] = pd.to_datetime(df[\"Date\"], errors=\"coerce\")\n",
    "    else:\n",
    "        raise KeyError(f\"🚨 ERROR: 'Date' column not found in {df}\")\n",
    "\n",
    "# Merge meal_data với weather_data và special_day_data\n",
    "merged_df = meal_df.merge(weather_df, on=\"Date\", how=\"left\")\n",
    "merged_df = merged_df.merge(special_day_df, on=\"Date\", how=\"left\")\n",
    "\n",
    "# Tạo cột 'special_day' (1 nếu có giá trị trong 'Special_Day_Name', 0 nếu không)\n",
    "merged_df[\"special_day\"] = merged_df[\"Special_Day_Name\"].notna().astype(int)\n",
    "\n",
    "# Sắp xếp theo ngày\n",
    "merged_df = merged_df.sort_values(by=\"Date\")\n",
    "\n",
    "# Lưu vào file mới\n",
    "merged_df.to_csv(\"merged_data.csv\", index=False, encoding=\"utf-8-sig\")\n",
    "\n",
    "print(\"✅ Merging complete! The file 'merged_data.csv' has been created.\")\n"
   ]
  },
  {
   "cell_type": "code",
   "execution_count": null,
   "id": "ee2ac0fb",
   "metadata": {},
   "outputs": [],
   "source": []
  }
 ],
 "metadata": {
  "kernelspec": {
   "display_name": "Python 3 (ipykernel)",
   "language": "python",
   "name": "python3"
  },
  "language_info": {
   "codemirror_mode": {
    "name": "ipython",
    "version": 3
   },
   "file_extension": ".py",
   "mimetype": "text/x-python",
   "name": "python",
   "nbconvert_exporter": "python",
   "pygments_lexer": "ipython3",
   "version": "3.9.13"
  }
 },
 "nbformat": 4,
 "nbformat_minor": 5
}
