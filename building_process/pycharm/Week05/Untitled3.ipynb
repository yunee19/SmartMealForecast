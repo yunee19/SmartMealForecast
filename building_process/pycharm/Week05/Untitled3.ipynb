{
 "cells": [
  {
   "cell_type": "code",
   "execution_count": 10,
   "id": "2aea78cb",
   "metadata": {},
   "outputs": [
    {
     "name": "stdout",
     "output_type": "stream",
     "text": [
      "         Date Day  Total_Emp  Actual_Emp  Leave_Emp  Trip_Emp  OT_Approved  \\\n",
      "0  2016-02-01   월       2601        2401         50       150          238   \n",
      "1  2016-02-02   화       2601        2378         50       173          319   \n",
      "2  2016-02-03   수       2601        2365         56       180          111   \n",
      "3  2016-02-04   목       2601        2277        104       220          355   \n",
      "4  2016-02-05   금       2601        2142        278       181           34   \n",
      "\n",
      "   Remote_Emp                                         Lunch_Menu  \\\n",
      "0           0  쌀밥/잡곡밥 (쌀,현미흑미:국내산) 오징어찌개  쇠불고기 (쇠고기:호주산) 계란찜 ...   \n",
      "1           0  쌀밥/잡곡밥 (쌀,현미흑미:국내산) 김치찌개  가자미튀김  모둠소세지구이  마늘쫑무...   \n",
      "2           0  카레덮밥 (쌀,현미흑미:국내산) 팽이장국  치킨핑거 (닭고기:국내산) 쫄면야채무침 ...   \n",
      "3           0  쌀밥/잡곡밥 (쌀,현미흑미:국내산) 쇠고기무국  주꾸미볶음  부추전  시금치나물  ...   \n",
      "4           0  쌀밥/잡곡밥 (쌀,현미흑미:국내산) 떡국  돈육씨앗강정 (돼지고기:국내산) 우엉잡채...   \n",
      "\n",
      "                                         Dinner_Menu  ...  \\\n",
      "0  쌀밥/잡곡밥 (쌀,현미흑미:국내산) 육개장  자반고등어구이  두부조림  건파래무침 ...  ...   \n",
      "1  콩나물밥*양념장 (쌀,현미흑미:국내산) 어묵국  유산슬 (쇠고기:호주산) 아삭고추무...  ...   \n",
      "2  쌀밥/잡곡밥 (쌀,현미흑미:국내산) 청국장찌개  황태양념구이 (황태:러시아산) 고기...  ...   \n",
      "3  미니김밥*겨자장 (쌀,현미흑미:국내산) 우동  멕시칸샐러드  군고구마  무피클  포...  ...   \n",
      "4  쌀밥/잡곡밥 (쌀,현미흑미:국내산) 차돌박이찌개 (쇠고기:호주산) 닭갈비 (닭고기:...  ...   \n",
      "\n",
      "   Dinner_Kimchi_Encoded_14  Dinner_Kimchi_Encoded_15  \\\n",
      "0                       0.0                       0.0   \n",
      "1                       0.0                       0.0   \n",
      "2                       0.0                       0.0   \n",
      "3                       0.0                       0.0   \n",
      "4                       0.0                       0.0   \n",
      "\n",
      "   Dinner_Kimchi_Encoded_16  Dinner_Kimchi_Encoded_17  \\\n",
      "0                       0.0                       0.0   \n",
      "1                       0.0                       0.0   \n",
      "2                       0.0                       0.0   \n",
      "3                       0.0                       0.0   \n",
      "4                       0.0                       0.0   \n",
      "\n",
      "   Dinner_Kimchi_Encoded_18 Dinner_Kimchi_Encoded_19 Dinner_Kimchi_Encoded_20  \\\n",
      "0                       1.0                      0.0                      0.0   \n",
      "1                       1.0                      0.0                      0.0   \n",
      "2                       1.0                      0.0                      0.0   \n",
      "3                       1.0                      0.0                      0.0   \n",
      "4                       1.0                      0.0                      0.0   \n",
      "\n",
      "  Dinner_Kimchi_Encoded_21 Dinner_Kimchi_Encoded_22 Dinner_Kimchi_Encoded_23  \n",
      "0                      0.0                      0.0                      0.0  \n",
      "1                      0.0                      0.0                      0.0  \n",
      "2                      0.0                      0.0                      0.0  \n",
      "3                      0.0                      0.0                      0.0  \n",
      "4                      0.0                      0.0                      0.0  \n",
      "\n",
      "[5 rows x 3787 columns]\n"
     ]
    },
    {
     "name": "stderr",
     "output_type": "stream",
     "text": [
      "C:\\Users\\Public\\Documents\\ESTsoft\\CreatorTemp\\ipykernel_18488\\2802992995.py:4: DtypeWarning: Columns (23,28) have mixed types. Specify dtype option on import or set low_memory=False.\n",
      "  encoded_data = pd.read_csv('encoded_meal_data_2016_2021.csv')\n"
     ]
    }
   ],
   "source": [
    "import pandas as pd\n",
    "\n",
    "# Tải lại dữ liệu từ file đã mã hóa\n",
    "encoded_data = pd.read_csv('encoded_meal_data_2016_2021.csv')\n",
    "\n",
    "# Hiển thị 5 dòng đầu tiên của dữ liệu để kiểm tra\n",
    "print(encoded_data.head())\n"
   ]
  },
  {
   "cell_type": "code",
   "execution_count": 11,
   "id": "02990845",
   "metadata": {},
   "outputs": [
    {
     "name": "stdout",
     "output_type": "stream",
     "text": [
      "Index(['Date', 'Day', 'Total_Emp', 'Actual_Emp', 'Leave_Emp', 'Trip_Emp',\n",
      "       'OT_Approved', 'Remote_Emp', 'Lunch_Menu', 'Dinner_Menu',\n",
      "       ...\n",
      "       'Dinner_Kimchi_Encoded_14', 'Dinner_Kimchi_Encoded_15',\n",
      "       'Dinner_Kimchi_Encoded_16', 'Dinner_Kimchi_Encoded_17',\n",
      "       'Dinner_Kimchi_Encoded_18', 'Dinner_Kimchi_Encoded_19',\n",
      "       'Dinner_Kimchi_Encoded_20', 'Dinner_Kimchi_Encoded_21',\n",
      "       'Dinner_Kimchi_Encoded_22', 'Dinner_Kimchi_Encoded_23'],\n",
      "      dtype='object', length=3787)\n"
     ]
    }
   ],
   "source": [
    "# Kiểm tra tên các cột trong DataFrame\n",
    "print(encoded_data.columns)\n"
   ]
  },
  {
   "cell_type": "code",
   "execution_count": 12,
   "id": "1be718bb",
   "metadata": {},
   "outputs": [],
   "source": [
    "# Loại bỏ các hàng có giá trị thiếu\n",
    "encoded_data_cleaned = encoded_data.dropna()\n"
   ]
  },
  {
   "cell_type": "code",
   "execution_count": 13,
   "id": "40aa2550",
   "metadata": {},
   "outputs": [],
   "source": [
    "# Thay thế giá trị thiếu bằng 0\n",
    "encoded_data_filled = encoded_data.fillna(0)\n"
   ]
  },
  {
   "cell_type": "code",
   "execution_count": 14,
   "id": "eecfaa78",
   "metadata": {},
   "outputs": [
    {
     "name": "stdout",
     "output_type": "stream",
     "text": [
      "Date\n",
      "2016-02-01    2601\n",
      "2016-02-02    2601\n",
      "2016-02-03    2601\n",
      "2016-02-04    2601\n",
      "2016-02-05    2601\n",
      "Name: Total_Emp, dtype: int64\n"
     ]
    }
   ],
   "source": [
    "# Chuyển cột 'Date' thành kiểu datetime\n",
    "encoded_data['Date'] = pd.to_datetime(encoded_data['Date'])\n",
    "\n",
    "# Tính tổng số nhân viên theo ngày\n",
    "total_emp_by_date = encoded_data.groupby('Date')['Total_Emp'].sum()\n",
    "\n",
    "# Hiển thị kết quả\n",
    "print(total_emp_by_date.head())\n"
   ]
  },
  {
   "cell_type": "code",
   "execution_count": 15,
   "id": "2ff08e41",
   "metadata": {},
   "outputs": [],
   "source": [
    "# Lưu dữ liệu đã xử lý vào file CSV\n",
    "encoded_data_filled.to_csv('encoded_2016_2021_cleaned.csv', index=False)\n"
   ]
  },
  {
   "cell_type": "code",
   "execution_count": 16,
   "id": "b16dc474",
   "metadata": {},
   "outputs": [
    {
     "ename": "NameError",
     "evalue": "name 'model' is not defined",
     "output_type": "error",
     "traceback": [
      "\u001b[1;31m---------------------------------------------------------------------------\u001b[0m",
      "\u001b[1;31mNameError\u001b[0m                                 Traceback (most recent call last)",
      "\u001b[1;32mC:\\Users\\Public\\Documents\\ESTsoft\\CreatorTemp\\ipykernel_18488\\2242914175.py\u001b[0m in \u001b[0;36m<module>\u001b[1;34m\u001b[0m\n\u001b[0;32m      2\u001b[0m \u001b[1;33m\u001b[0m\u001b[0m\n\u001b[0;32m      3\u001b[0m \u001b[1;31m# Dự đoán với mô hình đã học\u001b[0m\u001b[1;33m\u001b[0m\u001b[1;33m\u001b[0m\u001b[0m\n\u001b[1;32m----> 4\u001b[1;33m \u001b[0my_pred\u001b[0m \u001b[1;33m=\u001b[0m \u001b[0mmodel\u001b[0m\u001b[1;33m.\u001b[0m\u001b[0mpredict\u001b[0m\u001b[1;33m(\u001b[0m\u001b[0mX_test\u001b[0m\u001b[1;33m)\u001b[0m\u001b[1;33m\u001b[0m\u001b[1;33m\u001b[0m\u001b[0m\n\u001b[0m\u001b[0;32m      5\u001b[0m \u001b[1;33m\u001b[0m\u001b[0m\n\u001b[0;32m      6\u001b[0m \u001b[1;31m# Tính MSE và MAE\u001b[0m\u001b[1;33m\u001b[0m\u001b[1;33m\u001b[0m\u001b[0m\n",
      "\u001b[1;31mNameError\u001b[0m: name 'model' is not defined"
     ]
    }
   ],
   "source": [
    "from sklearn.metrics import mean_squared_error, mean_absolute_error\n",
    "\n",
    "# Dự đoán với mô hình đã học\n",
    "y_pred = model.predict(X_test)\n",
    "\n",
    "# Tính MSE và MAE\n",
    "mse = mean_squared_error(y_test, y_pred)\n",
    "mae = mean_absolute_error(y_test, y_pred)\n",
    "\n",
    "# In kết quả\n",
    "print(f'MSE: {mse}, MAE: {mae}')\n"
   ]
  },
  {
   "cell_type": "code",
   "execution_count": null,
   "id": "b93a9cdc",
   "metadata": {},
   "outputs": [],
   "source": []
  }
 ],
 "metadata": {
  "kernelspec": {
   "display_name": "Python 3 (ipykernel)",
   "language": "python",
   "name": "python3"
  },
  "language_info": {
   "codemirror_mode": {
    "name": "ipython",
    "version": 3
   },
   "file_extension": ".py",
   "mimetype": "text/x-python",
   "name": "python",
   "nbconvert_exporter": "python",
   "pygments_lexer": "ipython3",
   "version": "3.9.13"
  }
 },
 "nbformat": 4,
 "nbformat_minor": 5
}
