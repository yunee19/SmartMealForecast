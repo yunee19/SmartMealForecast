{
 "cells": [
  {
   "cell_type": "markdown",
   "id": "6db363aa",
   "metadata": {},
   "source": [
    "## Bước 1: Vector hóa tên món ăn (Food Name Vectorization)"
   ]
  },
  {
   "cell_type": "code",
   "execution_count": 26,
   "id": "b096aa45",
   "metadata": {},
   "outputs": [],
   "source": [
    "import pandas as pd\n",
    "\n",
    "# Đọc dữ liệu từ file CSV\n",
    "data = pd.read_csv('process_test.csv', encoding=\"euc-kr\")"
   ]
  },
  {
   "cell_type": "code",
   "execution_count": 27,
   "id": "b0b30b5e",
   "metadata": {},
   "outputs": [],
   "source": [
    "# Chuyển cột 'Date' thành kiểu datetime\n",
    "data['Date'] = pd.to_datetime(data['Date'])\n",
    "\n",
    "# Tạo thêm các cột như 'Weekday', 'Month', 'Year'\n",
    "data['Weekday'] = data['Date'].dt.weekday\n",
    "data['Month'] = data['Date'].dt.month\n",
    "data['Year'] = data['Date'].dt.year\n"
   ]
  },
  {
   "cell_type": "code",
   "execution_count": 28,
   "id": "aa9be956",
   "metadata": {},
   "outputs": [],
   "source": [
    "# Ví dụ: Chuyển đổi cột thời tiết thành kiểu số và thêm vào DataFrame\n",
    "data['Avg_Temp'] = pd.to_numeric(data['Avg_Temp'], errors='coerce')\n",
    "data['Max_Temp'] = pd.to_numeric(data['Max_Temp'], errors='coerce')\n",
    "data['Min_Temp'] = pd.to_numeric(data['Min_Temp'], errors='coerce')\n",
    "data['Temp_Range'] = data['Max_Temp'] - data['Min_Temp']\n"
   ]
  },
  {
   "cell_type": "code",
   "execution_count": 29,
   "id": "d84d7d41",
   "metadata": {},
   "outputs": [],
   "source": [
    "# Biến đổi thông tin về ngày nghỉ và ngày lễ\n",
    "data['Is_Holiday'] = data['Holiday'].apply(lambda x: 1 if x != 0 else 0)\n",
    "data['Is_Special_Day'] = data['special_day'].apply(lambda x: 1 if x != 0 else 0)\n"
   ]
  },
  {
   "cell_type": "code",
   "execution_count": 22,
   "id": "11cfa288",
   "metadata": {},
   "outputs": [
    {
     "name": "stdout",
     "output_type": "stream",
     "text": [
      "   (New)바지락비빔밥  (New)뿌리채소영양밥&달래양념장  <초복특식>  건강비빔밥*약고추장  계란채소볶음밥  고기듬뿍카레라이스  \\\n",
      "0          0.0                 0.0     0.0         0.0      0.0        0.0   \n",
      "1          0.0                 0.0     0.0         0.0      0.0        0.0   \n",
      "2          0.0                 0.0     0.0         0.0      0.0        0.0   \n",
      "3          0.0                 0.0     0.0         0.0      0.0        0.0   \n",
      "4          0.0                 0.0     0.0         0.0      0.0        0.0   \n",
      "\n",
      "   곤드레밥  곤드레밥*간장양념  곤드레밥*강된장  곤드레밥*양념장  ...  얼갈이열무겉절이  열무김치  오이소박이  통배추겉절이  \\\n",
      "0   0.0        0.0       0.0       0.0  ...       0.0   0.0    0.0     0.0   \n",
      "1   0.0        0.0       0.0       0.0  ...       0.0   0.0    0.0     0.0   \n",
      "2   0.0        0.0       0.0       0.0  ...       0.0   0.0    0.0     0.0   \n",
      "3   0.0        0.0       0.0       0.0  ...       0.0   0.0    0.0     0.0   \n",
      "4   0.0        0.0       0.0       0.0  ...       0.0   0.0    0.0     0.0   \n",
      "\n",
      "   포기김치  포기김치/마늘바게트  포기김치/무피클  포기김치/열무김치볶음  해파리냉채  NaN  \n",
      "0   1.0         0.0       0.0          0.0    0.0  0.0  \n",
      "1   1.0         0.0       0.0          0.0    0.0  0.0  \n",
      "2   1.0         0.0       0.0          0.0    0.0  0.0  \n",
      "3   1.0         0.0       0.0          0.0    0.0  0.0  \n",
      "4   1.0         0.0       0.0          0.0    0.0  0.0  \n",
      "\n",
      "[5 rows x 3742 columns]\n"
     ]
    }
   ],
   "source": [
    "# Khởi tạo OneHotEncoder và vector hóa các cột món ăn:\n",
    "import pandas as pd\n",
    "from sklearn.preprocessing import OneHotEncoder\n",
    "\n",
    "# Khởi tạo OneHotEncoder\n",
    "encoder = OneHotEncoder(sparse_output=False)\n",
    "\n",
    "# Hàm tạo DataFrame với tên cột đúng\n",
    "def encode_column(data, column_name):\n",
    "    encoded_data = encoder.fit_transform(data[[column_name]])\n",
    "    column_names = encoder.categories_[0]  # Lấy các tên cột từ các category\n",
    "    return pd.DataFrame(encoded_data, columns=column_names)\n",
    "\n",
    "# Vector hóa các cột món ăn và tạo DataFrame cho mỗi cột\n",
    "lunch_rice_encoded_df = encode_column(data, 'Lunch_Rice')\n",
    "lunch_soup_encoded_df = encode_column(data, 'Lunch_Soup')\n",
    "lunch_main_dish_encoded_df = encode_column(data, 'Lunch_Main_Dish')\n",
    "lunch_side_dish_1_encoded_df = encode_column(data, 'Lunch_Side_Dish_1')\n",
    "lunch_side_dish_2_encoded_df = encode_column(data, 'Lunch_Side_Dish_2')\n",
    "lunch_drink_encoded_df = encode_column(data, 'Lunch_Drink')\n",
    "lunch_kimchi_encoded_df = encode_column(data, 'Lunch_Kimchi')\n",
    "lunch_side_dish_3_encoded_df = encode_column(data, 'Lunch_side_Dish_3')\n",
    "\n",
    "dinner_rice_encoded_df = encode_column(data, 'Dinner_Rice')\n",
    "dinner_soup_encoded_df = encode_column(data, 'Dinner_Soup')\n",
    "dinner_main_dish_encoded_df = encode_column(data, 'Dinner_Main_Dish')\n",
    "dinner_side_dish_1_encoded_df = encode_column(data, 'Dinner_Side_Dish_1')\n",
    "dinner_side_dish_2_encoded_df = encode_column(data, 'Dinner_Side_Dish_2')\n",
    "dinner_side_dish_3_encoded_df = encode_column(data, 'Dinner_Side_Dish_3')\n",
    "dinner_drink_encoded_df = encode_column(data, 'Dinner_Drink')\n",
    "dinner_kimchi_encoded_df = encode_column(data, 'Dinner_Kimchi')\n",
    "\n",
    "# Gộp tất cả các DataFrame đã mã hóa vào một DataFrame duy nhất\n",
    "encoded_data = pd.concat([lunch_rice_encoded_df, lunch_soup_encoded_df, lunch_main_dish_encoded_df,\n",
    "                          lunch_side_dish_1_encoded_df, lunch_side_dish_2_encoded_df, lunch_drink_encoded_df,\n",
    "                          lunch_kimchi_encoded_df, lunch_side_dish_3_encoded_df, dinner_rice_encoded_df,\n",
    "                          dinner_soup_encoded_df, dinner_main_dish_encoded_df, dinner_side_dish_1_encoded_df,\n",
    "                          dinner_side_dish_2_encoded_df, dinner_side_dish_3_encoded_df, dinner_drink_encoded_df,\n",
    "                          dinner_kimchi_encoded_df], axis=1)\n",
    "\n",
    "# Kiểm tra kết quả\n",
    "print(encoded_data.head())\n",
    "\n",
    "encoded_data.to_csv('encoded_2016_2021.csv', index=False)"
   ]
  },
  {
   "cell_type": "code",
   "execution_count": 30,
   "id": "bf47c73d",
   "metadata": {},
   "outputs": [],
   "source": [
    "# # Điền giá trị 'None' cho các ô trống trong cột 'Lunch_Side_Dish_3'\n",
    "# data['Lunch_Side_Dish_3'] = data['Lunch_Side_Dish_3'].fillna('None')\n",
    "\n",
    "# # Tiến hành mã hóa cột sau khi điền giá trị trống\n",
    "# lunch_side_dish_3_encoded_df = encode_column(data, 'Lunch_Side_Dish_3')\n"
   ]
  },
  {
   "cell_type": "code",
   "execution_count": 31,
   "id": "ea1155cd",
   "metadata": {},
   "outputs": [],
   "source": [
    "# # Điền giá trị phổ biến nhất cho các ô trống trong cột 'Lunch_Side_Dish_3'\n",
    "# most_common_value = data['Lunch_Side_Dish_3'].mode()[0]\n",
    "# data['Lunch_Side_Dish_3'] = data['Lunch_Side_Dish_3'].fillna(most_common_value)\n",
    "\n",
    "# # Tiến hành mã hóa cột\n",
    "# lunch_side_dish_3_encoded_df = encode_column(data, 'Lunch_Side_Dish_3')\n"
   ]
  },
  {
   "cell_type": "code",
   "execution_count": 32,
   "id": "56ce9dd6",
   "metadata": {},
   "outputs": [],
   "source": [
    "# # Loại bỏ các hàng có giá trị trống trong cột 'Lunch_Side_Dish_3'\n",
    "# data = data.dropna(subset=['Lunch_Side_Dish_3'])\n",
    "\n",
    "# # Tiến hành mã hóa cột\n",
    "# lunch_side_dish_3_encoded_df = encode_column(data, 'Lunch_Side_Dish_3')\n"
   ]
  },
  {
   "cell_type": "code",
   "execution_count": 33,
   "id": "5ee9f2fd",
   "metadata": {},
   "outputs": [
    {
     "name": "stdout",
     "output_type": "stream",
     "text": [
      "   (New)바지락비빔밥  (New)뿌리채소영양밥&달래양념장  <초복특식>  건강비빔밥*약고추장  계란채소볶음밥  고기듬뿍카레라이스  \\\n",
      "0          0.0                 0.0     0.0         0.0      0.0        0.0   \n",
      "1          0.0                 0.0     0.0         0.0      0.0        0.0   \n",
      "2          0.0                 0.0     0.0         0.0      0.0        0.0   \n",
      "3          0.0                 0.0     0.0         0.0      0.0        0.0   \n",
      "4          0.0                 0.0     0.0         0.0      0.0        0.0   \n",
      "\n",
      "   곤드레밥  곤드레밥*간장양념  곤드레밥*강된장  곤드레밥*양념장  ...  얼갈이열무겉절이  열무김치  오이소박이  통배추겉절이  \\\n",
      "0   0.0        0.0       0.0       0.0  ...       0.0   0.0    0.0     0.0   \n",
      "1   0.0        0.0       0.0       0.0  ...       0.0   0.0    0.0     0.0   \n",
      "2   0.0        0.0       0.0       0.0  ...       0.0   0.0    0.0     0.0   \n",
      "3   0.0        0.0       0.0       0.0  ...       0.0   0.0    0.0     0.0   \n",
      "4   0.0        0.0       0.0       0.0  ...       0.0   0.0    0.0     0.0   \n",
      "\n",
      "   포기김치  포기김치/마늘바게트  포기김치/무피클  포기김치/열무김치볶음  해파리냉채  NaN  \n",
      "0   1.0         0.0       0.0          0.0    0.0  0.0  \n",
      "1   1.0         0.0       0.0          0.0    0.0  0.0  \n",
      "2   1.0         0.0       0.0          0.0    0.0  0.0  \n",
      "3   1.0         0.0       0.0          0.0    0.0  0.0  \n",
      "4   1.0         0.0       0.0          0.0    0.0  0.0  \n",
      "\n",
      "[5 rows x 3742 columns]\n"
     ]
    }
   ],
   "source": [
    "# # Khởi tạo một hàm để thêm tên cột đúng khi mã hóa\n",
    "# def encode_column(data, column_name):\n",
    "#     encoded_data = encoder.fit_transform(data[[column_name]])\n",
    "#     column_names = encoder.categories_[0]  # Lấy các tên cột từ các category\n",
    "#     return pd.DataFrame(encoded_data, columns=column_names)\n",
    "\n",
    "# # Tạo các DataFrame mã hóa và giữ đúng thứ tự các cột\n",
    "# lunch_rice_encoded_df = encode_column(data, 'Lunch_Rice')\n",
    "# lunch_soup_encoded_df = encode_column(data, 'Lunch_Soup')\n",
    "# lunch_main_dish_encoded_df = encode_column(data, 'Lunch_Main_Dish')\n",
    "# lunch_side_dish_1_encoded_df = encode_column(data, 'Lunch_Side_Dish_1')\n",
    "# lunch_side_dish_2_encoded_df = encode_column(data, 'Lunch_Side_Dish_2')\n",
    "# lunch_drink_encoded_df = encode_column(data, 'Lunch_Drink')\n",
    "# lunch_kimchi_encoded_df = encode_column(data, 'Lunch_Kimchi')\n",
    "# lunch_side_dish_3_encoded_df = encode_column(data, 'Lunch_Side_Dish_3')\n",
    "\n",
    "# dinner_rice_encoded_df = encode_column(data, 'Dinner_Rice')\n",
    "# dinner_soup_encoded_df = encode_column(data, 'Dinner_Soup')\n",
    "# dinner_main_dish_encoded_df = encode_column(data, 'Dinner_Main_Dish')\n",
    "# dinner_side_dish_1_encoded_df = encode_column(data, 'Dinner_Side_Dish_1')\n",
    "# dinner_side_dish_2_encoded_df = encode_column(data, 'Dinner_Side_Dish_2')\n",
    "# dinner_side_dish_3_encoded_df = encode_column(data, 'Dinner_Side_Dish_3')\n",
    "# dinner_drink_encoded_df = encode_column(data, 'Dinner_Drink')\n",
    "# dinner_kimchi_encoded_df = encode_column(data, 'Dinner_Kimchi')\n",
    "\n",
    "# # Gộp tất cả các DataFrame mã hóa lại\n",
    "# encoded_data = pd.concat([\n",
    "#     lunch_rice_encoded_df, lunch_soup_encoded_df, lunch_main_dish_encoded_df,\n",
    "#     lunch_side_dish_1_encoded_df, lunch_side_dish_2_encoded_df, lunch_drink_encoded_df,\n",
    "#     lunch_kimchi_encoded_df, lunch_side_dish_3_encoded_df, dinner_rice_encoded_df,\n",
    "#     dinner_soup_encoded_df, dinner_main_dish_encoded_df, dinner_side_dish_1_encoded_df,\n",
    "#     dinner_side_dish_2_encoded_df, dinner_side_dish_3_encoded_df, dinner_drink_encoded_df,\n",
    "#     dinner_kimchi_encoded_df\n",
    "# ], axis=1)\n",
    "\n",
    "# # Kiểm tra lại kết quả\n",
    "# print(encoded_data.head())\n",
    "# encoded_data.to_csv('encoded_thu_2.csv', index=False)"
   ]
  },
  {
   "cell_type": "code",
   "execution_count": 35,
   "id": "9d1dc90d",
   "metadata": {},
   "outputs": [
    {
     "name": "stdout",
     "output_type": "stream",
     "text": [
      "        Date Day  Total_Emp  Actual_Emp  Leave_Emp  Trip_Emp  OT_Approved  \\\n",
      "0 2016-02-01   월       2601        2401         50       150          238   \n",
      "1 2016-02-02   화       2601        2378         50       173          319   \n",
      "2 2016-02-03   수       2601        2365         56       180          111   \n",
      "3 2016-02-04   목       2601        2277        104       220          355   \n",
      "4 2016-02-05   금       2601        2142        278       181           34   \n",
      "\n",
      "   Remote_Emp                                         Lunch_Menu  \\\n",
      "0           0  쌀밥/잡곡밥 (쌀,현미흑미:국내산) 오징어찌개  쇠불고기 (쇠고기:호주산) 계란찜 ...   \n",
      "1           0  쌀밥/잡곡밥 (쌀,현미흑미:국내산) 김치찌개  가자미튀김  모둠소세지구이  마늘쫑무...   \n",
      "2           0  카레덮밥 (쌀,현미흑미:국내산) 팽이장국  치킨핑거 (닭고기:국내산) 쫄면야채무침 ...   \n",
      "3           0  쌀밥/잡곡밥 (쌀,현미흑미:국내산) 쇠고기무국  주꾸미볶음  부추전  시금치나물  ...   \n",
      "4           0  쌀밥/잡곡밥 (쌀,현미흑미:국내산) 떡국  돈육씨앗강정 (돼지고기:국내산) 우엉잡채...   \n",
      "\n",
      "                                         Dinner_Menu  ...  \\\n",
      "0  쌀밥/잡곡밥 (쌀,현미흑미:국내산) 육개장  자반고등어구이  두부조림  건파래무침 ...  ...   \n",
      "1  콩나물밥*양념장 (쌀,현미흑미:국내산) 어묵국  유산슬 (쇠고기:호주산) 아삭고추무...  ...   \n",
      "2  쌀밥/잡곡밥 (쌀,현미흑미:국내산) 청국장찌개  황태양념구이 (황태:러시아산) 고기...  ...   \n",
      "3  미니김밥*겨자장 (쌀,현미흑미:국내산) 우동  멕시칸샐러드  군고구마  무피클  포...  ...   \n",
      "4  쌀밥/잡곡밥 (쌀,현미흑미:국내산) 차돌박이찌개 (쇠고기:호주산) 닭갈비 (닭고기:...  ...   \n",
      "\n",
      "   Dinner_Kimchi_Encoded_14  Dinner_Kimchi_Encoded_15  \\\n",
      "0                       0.0                       0.0   \n",
      "1                       0.0                       0.0   \n",
      "2                       0.0                       0.0   \n",
      "3                       0.0                       0.0   \n",
      "4                       0.0                       0.0   \n",
      "\n",
      "   Dinner_Kimchi_Encoded_16  Dinner_Kimchi_Encoded_17  \\\n",
      "0                       0.0                       0.0   \n",
      "1                       0.0                       0.0   \n",
      "2                       0.0                       0.0   \n",
      "3                       0.0                       0.0   \n",
      "4                       0.0                       0.0   \n",
      "\n",
      "   Dinner_Kimchi_Encoded_18 Dinner_Kimchi_Encoded_19 Dinner_Kimchi_Encoded_20  \\\n",
      "0                       1.0                      0.0                      0.0   \n",
      "1                       1.0                      0.0                      0.0   \n",
      "2                       1.0                      0.0                      0.0   \n",
      "3                       1.0                      0.0                      0.0   \n",
      "4                       1.0                      0.0                      0.0   \n",
      "\n",
      "  Dinner_Kimchi_Encoded_21 Dinner_Kimchi_Encoded_22 Dinner_Kimchi_Encoded_23  \n",
      "0                      0.0                      0.0                      0.0  \n",
      "1                      0.0                      0.0                      0.0  \n",
      "2                      0.0                      0.0                      0.0  \n",
      "3                      0.0                      0.0                      0.0  \n",
      "4                      0.0                      0.0                      0.0  \n",
      "\n",
      "[5 rows x 3787 columns]\n"
     ]
    }
   ],
   "source": [
    "# Thêm các cột đã mã hóa vào DataFrame gốc\n",
    "data[['Lunch_Rice_Encoded_' + str(i) for i in range(lunch_rice_encoded.shape[1])]] = lunch_rice_encoded\n",
    "data[['Lunch_Soup_Encoded_' + str(i) for i in range(lunch_soup_encoded.shape[1])]] = lunch_soup_encoded\n",
    "data[['Lunch_Main_Dish_Encoded_' + str(i) for i in range(lunch_main_dish_encoded.shape[1])]] = lunch_main_dish_encoded\n",
    "data[['Lunch_Side_Dish_1_Encoded_' + str(i) for i in range(lunch_side_dish_1_encoded.shape[1])]] = lunch_side_dish_1_encoded\n",
    "data[['Lunch_Side_Dish_2_Encoded_' + str(i) for i in range(lunch_side_dish_2_encoded.shape[1])]] = lunch_side_dish_2_encoded\n",
    "data[['Lunch_Drink_Encoded_' + str(i) for i in range(lunch_drink_encoded.shape[1])]] = lunch_drink_encoded\n",
    "data[['Lunch_Kimchi_Encoded_' + str(i) for i in range(lunch_kimchi_encoded.shape[1])]] = lunch_kimchi_encoded\n",
    "data[['Lunch_Side_Dish_3_Encoded_' + str(i) for i in range(lunch_side_dish_3_encoded.shape[1])]] = lunch_side_dish_3_encoded\n",
    "\n",
    "data[['Dinner_Rice_Encoded_' + str(i) for i in range(dinner_rice_encoded.shape[1])]] = dinner_rice_encoded\n",
    "data[['Dinner_Soup_Encoded_' + str(i) for i in range(dinner_soup_encoded.shape[1])]] = dinner_soup_encoded\n",
    "data[['Dinner_Main_Dish_Encoded_' + str(i) for i in range(dinner_main_dish_encoded.shape[1])]] = dinner_main_dish_encoded\n",
    "data[['Dinner_Side_Dish_1_Encoded_' + str(i) for i in range(dinner_side_dish_1_encoded.shape[1])]] = dinner_side_dish_1_encoded\n",
    "data[['Dinner_Side_Dish_2_Encoded_' + str(i) for i in range(dinner_side_dish_2_encoded.shape[1])]] = dinner_side_dish_2_encoded\n",
    "data[['Dinner_Side_Dish_3_Encoded_' + str(i) for i in range(dinner_side_dish_3_encoded.shape[1])]] = dinner_side_dish_3_encoded\n",
    "data[['Dinner_Drink_Encoded_' + str(i) for i in range(dinner_drink_encoded.shape[1])]] = dinner_drink_encoded\n",
    "data[['Dinner_Kimchi_Encoded_' + str(i) for i in range(dinner_kimchi_encoded.shape[1])]] = dinner_kimchi_encoded\n",
    "\n",
    "# Lưu dữ liệu đã được mã hóa vào file CSV mới\n",
    "data.to_csv('encoded_meal_data_2016_2021.csv', index=False)\n",
    "\n",
    "# Kiểm tra kết quả\n",
    "print(data.head())\n"
   ]
  },
  {
   "cell_type": "code",
   "execution_count": 21,
   "id": "c33b2c57",
   "metadata": {},
   "outputs": [],
   "source": [
    "data.to_csv('encoded_2016_2021.csv', index=False)"
   ]
  },
  {
   "cell_type": "code",
   "execution_count": 5,
   "id": "0cb67be5",
   "metadata": {},
   "outputs": [
    {
     "name": "stdout",
     "output_type": "stream",
     "text": [
      "        Date  Day_of_Week  Month  Day_of_Month  Year\n",
      "0 2016-02-01            0      2             1  2016\n",
      "1 2016-02-02            1      2             2  2016\n",
      "2 2016-02-03            2      2             3  2016\n",
      "3 2016-02-04            3      2             4  2016\n",
      "4 2016-02-05            4      2             5  2016\n"
     ]
    }
   ],
   "source": [
    "# Chuyển đổi cột Date thành dạng datetime\n",
    "data['Date'] = pd.to_datetime(data['Date'])\n",
    "\n",
    "# Thêm các cột ngày, tháng và năm\n",
    "data['Day_of_Week'] = data['Date'].dt.dayofweek  # Ngày trong tuần (0: Monday, 6: Sunday)\n",
    "data['Month'] = data['Date'].dt.month  # Tháng\n",
    "data['Day_of_Month'] = data['Date'].dt.day  # Ngày trong tháng\n",
    "data['Year'] = data['Date'].dt.year  # Năm\n",
    "\n",
    "# Kiểm tra dữ liệu sau khi chuyển đổi\n",
    "print(data[['Date', 'Day_of_Week', 'Month', 'Day_of_Month', 'Year']].head())\n"
   ]
  },
  {
   "cell_type": "code",
   "execution_count": 13,
   "id": "70e1a691",
   "metadata": {
    "scrolled": true
   },
   "outputs": [
    {
     "name": "stdout",
     "output_type": "stream",
     "text": [
      "Index(['Date', 'Day', 'Total_Emp', 'Actual_Emp', 'Leave_Emp', 'Trip_Emp',\n",
      "       'OT_Approved', 'Remote_Emp', 'Lunch_Menu', 'Dinner_Menu',\n",
      "       ...\n",
      "       'Dinner_Kimchi_Encoded_14', 'Dinner_Kimchi_Encoded_15',\n",
      "       'Dinner_Kimchi_Encoded_16', 'Dinner_Kimchi_Encoded_17',\n",
      "       'Dinner_Kimchi_Encoded_18', 'Dinner_Kimchi_Encoded_19',\n",
      "       'Dinner_Kimchi_Encoded_20', 'Dinner_Kimchi_Encoded_21',\n",
      "       'Dinner_Kimchi_Encoded_22', 'Dinner_Kimchi_Encoded_23'],\n",
      "      dtype='object', length=3787)\n"
     ]
    }
   ],
   "source": [
    "# Kiểm tra tất cả các tên cột trong DataFrame sau khi mã hóa\n",
    "print(data.columns)\n"
   ]
  },
  {
   "cell_type": "code",
   "execution_count": 16,
   "id": "c690d161",
   "metadata": {},
   "outputs": [
    {
     "name": "stdout",
     "output_type": "stream",
     "text": [
      "Index(['(New)바지락비빔밥', '(New)뿌리채소영양밥&달래양념장', '<초복특식>', '건강비빔밥*약고추장', '계란채소볶음밥',\n",
      "       '고기듬뿍카레라이스', '곤드레밥', '곤드레밥*간장양념', '곤드레밥*강된장', '곤드레밥*양념장', '김밥볶음밥',\n",
      "       '김치볶음밥', '김치볶음밥/계란', '김치제육덮밥', '김치필라프', '나물비빔밥', '낙지볶음밥', '낙지비빔밥',\n",
      "       '낙지비빔밥*계란후라이', '단호박영양밥', '단호박카레라이스', '닭살카레라이스', '돈육버섯고추장덮밥', '마파두부덮밥',\n",
      "       '버섯영양밥', '베이컨김치볶음밥', '봄나물비빔밥', '봄새싹비빔밥', '불고기덮밥', '불고기비빔밥', '비빔밥',\n",
      "       '비빔밥*약고추장', '산채비빔밥', '산채비빔밥*강된장', '삼계탕', '새우날치알볶음밥', '소고기콩나물밥*양념',\n",
      "       '소불고기덮밥', '쌀밥/', '쌀밥/강낭콩밥/찰현미밥', '쌀밥/검정콩밥/찰현미밥', '쌀밥/귀리밥/찰현미밥',\n",
      "       '쌀밥/기장밥/찰현미밥', '쌀밥/렌틸콩밥/찰현미밥', '쌀밥/병아리콩/찰현미밥', '쌀밥/병아리콩밥/찰현미밥',\n",
      "       '쌀밥/보리밥/찰현미밥', '쌀밥/수수밥/찰현미밥', '쌀밥/옛날돈까스', '쌀밥/오곡밥', '쌀밥/완두콩밥/찰현미밥',\n",
      "       '쌀밥/잡곡밥', '쌀밥/차조밥/찰현미밥', '쌀밥/찰보리밥/찰현미밥', '쌀밥/치자밥/찰현미밥', '쌀밥/팥밥/찰현미밥',\n",
      "       '쌀밥/흑미밥/찰현미밥', '야채볶음밥*짜장소스', '연복풍덮밥', '열무보리비빔밥', '열무보리비빔밥/강된장', '열무비빔밥',\n",
      "       '오곡밥', '오므라이스', '전주비빔밥', '전주비빔밥*약고추장', '짜장덮밥', '짜장밥', '참치회덮밥', '카레덮밥',\n",
      "       '카레라이스', '콩나물밥', '콩나물밥*달래장', '콩나물밥*양념장', '파인애플볶음밥'],\n",
      "      dtype='object')\n"
     ]
    }
   ],
   "source": [
    "# In ra tên các cột đã mã hóa\n",
    "print(lunch_rice_encoded_df.columns)"
   ]
  },
  {
   "cell_type": "code",
   "execution_count": null,
   "id": "cb4112cc",
   "metadata": {},
   "outputs": [],
   "source": []
  },
  {
   "cell_type": "code",
   "execution_count": null,
   "id": "7be9e6da",
   "metadata": {},
   "outputs": [],
   "source": []
  }
 ],
 "metadata": {
  "kernelspec": {
   "display_name": "Python 3 (ipykernel)",
   "language": "python",
   "name": "python3"
  },
  "language_info": {
   "codemirror_mode": {
    "name": "ipython",
    "version": 3
   },
   "file_extension": ".py",
   "mimetype": "text/x-python",
   "name": "python",
   "nbconvert_exporter": "python",
   "pygments_lexer": "ipython3",
   "version": "3.9.13"
  }
 },
 "nbformat": 4,
 "nbformat_minor": 5
}
